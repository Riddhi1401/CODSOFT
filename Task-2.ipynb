{
 "cells": [
  {
   "cell_type": "code",
   "execution_count": 1,
   "metadata": {},
   "outputs": [],
   "source": [
    "import pandas as pd\n",
    "import numpy as np\n",
    "import seaborn as sns\n",
    "import matplotlib.pyplot as plt"
   ]
  },
  {
   "cell_type": "code",
   "execution_count": 2,
   "metadata": {},
   "outputs": [],
   "source": [
    "from sklearn.model_selection import train_test_split\n",
    "from sklearn.preprocessing import LabelEncoder\n",
    "from sklearn.linear_model import LinearRegression\n",
    "from sklearn.ensemble import RandomForestRegressor\n",
    "from sklearn.metrics import mean_squared_error, r2_score"
   ]
  },
  {
   "cell_type": "code",
   "execution_count": 3,
   "metadata": {},
   "outputs": [],
   "source": [
    "df = pd.read_csv('/home/riddhi/archive/movies.csv', encoding='latin1')\n"
   ]
  },
  {
   "cell_type": "code",
   "execution_count": 4,
   "metadata": {},
   "outputs": [
    {
     "name": "stdout",
     "output_type": "stream",
     "text": [
      "                                 Name    Year Duration            Genre  \\\n",
      "0                                         NaN      NaN            Drama   \n",
      "1  #Gadhvi (He thought he was Gandhi)  (2019)  109 min            Drama   \n",
      "2                         #Homecoming  (2021)   90 min   Drama, Musical   \n",
      "3                             #Yaaram  (2019)  110 min  Comedy, Romance   \n",
      "4                   ...And Once Again  (2010)  105 min            Drama   \n",
      "\n",
      "   Rating Votes            Director       Actor 1             Actor 2  \\\n",
      "0     NaN   NaN       J.S. Randhawa      Manmauji              Birbal   \n",
      "1     7.0     8       Gaurav Bakshi  Rasika Dugal      Vivek Ghamande   \n",
      "2     NaN   NaN  Soumyajit Majumdar  Sayani Gupta   Plabita Borthakur   \n",
      "3     4.4    35          Ovais Khan       Prateik          Ishita Raj   \n",
      "4     NaN   NaN        Amol Palekar  Rajat Kapoor  Rituparna Sengupta   \n",
      "\n",
      "           Actor 3  \n",
      "0  Rajendra Bhatia  \n",
      "1    Arvind Jangid  \n",
      "2       Roy Angana  \n",
      "3  Siddhant Kapoor  \n",
      "4      Antara Mali  \n"
     ]
    }
   ],
   "source": [
    "print(df.head())"
   ]
  },
  {
   "cell_type": "code",
   "execution_count": 5,
   "metadata": {},
   "outputs": [
    {
     "name": "stdout",
     "output_type": "stream",
     "text": [
      "<class 'pandas.core.frame.DataFrame'>\n",
      "RangeIndex: 15509 entries, 0 to 15508\n",
      "Data columns (total 10 columns):\n",
      " #   Column    Non-Null Count  Dtype  \n",
      "---  ------    --------------  -----  \n",
      " 0   Name      15509 non-null  object \n",
      " 1   Year      14981 non-null  object \n",
      " 2   Duration  7240 non-null   object \n",
      " 3   Genre     13632 non-null  object \n",
      " 4   Rating    7919 non-null   float64\n",
      " 5   Votes     7920 non-null   object \n",
      " 6   Director  14984 non-null  object \n",
      " 7   Actor 1   13892 non-null  object \n",
      " 8   Actor 2   13125 non-null  object \n",
      " 9   Actor 3   12365 non-null  object \n",
      "dtypes: float64(1), object(9)\n",
      "memory usage: 1.2+ MB\n",
      "None\n"
     ]
    }
   ],
   "source": [
    "print(df.info())"
   ]
  },
  {
   "cell_type": "code",
   "execution_count": 6,
   "metadata": {},
   "outputs": [
    {
     "name": "stdout",
     "output_type": "stream",
     "text": [
      "            Rating\n",
      "count  7919.000000\n",
      "mean      5.841621\n",
      "std       1.381777\n",
      "min       1.100000\n",
      "25%       4.900000\n",
      "50%       6.000000\n",
      "75%       6.800000\n",
      "max      10.000000\n"
     ]
    }
   ],
   "source": [
    "print(df.describe())"
   ]
  },
  {
   "cell_type": "code",
   "execution_count": 7,
   "metadata": {},
   "outputs": [
    {
     "name": "stdout",
     "output_type": "stream",
     "text": [
      "Name           0\n",
      "Year         528\n",
      "Duration    8269\n",
      "Genre       1877\n",
      "Rating      7590\n",
      "Votes       7589\n",
      "Director     525\n",
      "Actor 1     1617\n",
      "Actor 2     2384\n",
      "Actor 3     3144\n",
      "dtype: int64\n"
     ]
    }
   ],
   "source": [
    "print(df.isnull().sum())"
   ]
  },
  {
   "cell_type": "code",
   "execution_count": 8,
   "metadata": {},
   "outputs": [],
   "source": [
    "df = df.dropna() "
   ]
  },
  {
   "cell_type": "code",
   "execution_count": 9,
   "metadata": {},
   "outputs": [],
   "source": [
    "# Ensure the 'Year' column is of string type before applying .str.extract\n",
    "df['Year'] = df['Year'].astype(str)  # Convert 'Year' column to string\n",
    "\n",
    "# Extract year using regex and handle missing or invalid years\n",
    "df['Year'] = df['Year'].str.extract('(\\d{4})')  # Extract 4-digit year\n",
    "\n",
    "# Convert the extracted year to numeric, and handle invalid parsing results as NaN\n",
    "df['Year'] = pd.to_numeric(df['Year'], errors='coerce')  # Convert to numeric, invalid parsing results in NaN\n",
    "\n",
    "# Fill NaN values with a default year (you can replace this with a specific value if needed)\n",
    "df['Year'] = df['Year'].fillna(df['Year'].mode()[0]).astype(int)  # Replace NaNs with the mode of the column\n"
   ]
  },
  {
   "cell_type": "code",
   "execution_count": 10,
   "metadata": {},
   "outputs": [],
   "source": [
    "# Ensure 'Duration' is a string before extracting digits\n",
    "df['Duration'] = df['Duration'].astype(str)  # Convert to string\n",
    "df['Duration'] = df['Duration'].str.extract('(\\d+)')  # Extract digits only\n",
    "df['Duration'] = pd.to_numeric(df['Duration'], errors='coerce')  # Convert to numeric\n",
    "df['Duration'] = df['Duration'].fillna(df['Duration'].mode()[0]).astype(int)  # Fill NaN with the mode\n"
   ]
  },
  {
   "cell_type": "code",
   "execution_count": 11,
   "metadata": {},
   "outputs": [],
   "source": [
    "# Ensure 'Votes' is a string before replacing commas\n",
    "df['Votes'] = df['Votes'].astype(str)  # Convert to string\n",
    "df['Votes'] = df['Votes'].str.replace(',', '')  # Remove commas\n",
    "df['Votes'] = pd.to_numeric(df['Votes'], errors='coerce')  # Convert to numeric\n",
    "df['Votes'] = df['Votes'].fillna(df['Votes'].mode()[0]).astype(int)  # Fill NaN with the mode\n"
   ]
  },
  {
   "cell_type": "code",
   "execution_count": 12,
   "metadata": {},
   "outputs": [],
   "source": [
    "# Handle 'Rating' column - Convert to numeric\n",
    "df['Rating'] = pd.to_numeric(df['Rating'], errors='coerce')  # Convert to numeric\n",
    "df['Rating'] = df['Rating'].fillna(df['Rating'].mode()[0])  # Fill NaN with the mode"
   ]
  },
  {
   "cell_type": "code",
   "execution_count": 13,
   "metadata": {},
   "outputs": [],
   "source": [
    "# Select features and target\n",
    "X = df[['Genre', 'Director', 'Actor 1', 'Actor 2', 'Actor 3', 'Year', 'Duration', 'Votes']]\n",
    "y = df['Rating']"
   ]
  },
  {
   "cell_type": "code",
   "execution_count": 14,
   "metadata": {},
   "outputs": [],
   "source": [
    "# Convert categorical columns to numerical using one-hot encoding\n",
    "X = pd.get_dummies(X, drop_first=True)"
   ]
  },
  {
   "cell_type": "code",
   "execution_count": 15,
   "metadata": {},
   "outputs": [],
   "source": [
    "# Split the data into training and testing sets\n",
    "X_train, X_test, y_train, y_test = train_test_split(X, y, test_size=0.2, random_state=42)"
   ]
  },
  {
   "cell_type": "code",
   "execution_count": 16,
   "metadata": {},
   "outputs": [
    {
     "data": {
      "text/plain": [
       "LinearRegression(copy_X=True, fit_intercept=True, n_jobs=None, normalize=False)"
      ]
     },
     "execution_count": 16,
     "metadata": {},
     "output_type": "execute_result"
    }
   ],
   "source": [
    "# Train the model\n",
    "model = LinearRegression()\n",
    "model.fit(X_train, y_train)\n"
   ]
  },
  {
   "cell_type": "code",
   "execution_count": 17,
   "metadata": {},
   "outputs": [],
   "source": [
    "# Make predictions\n",
    "y_pred = model.predict(X_test)\n"
   ]
  },
  {
   "cell_type": "code",
   "execution_count": 18,
   "metadata": {},
   "outputs": [
    {
     "name": "stdout",
     "output_type": "stream",
     "text": [
      "Mean Squared Error: 9.289218889039033\n"
     ]
    }
   ],
   "source": [
    "# Evaluate the model\n",
    "mse = mean_squared_error(y_test, y_pred)\n",
    "print(\"Mean Squared Error:\", mse)\n"
   ]
  },
  {
   "cell_type": "code",
   "execution_count": 19,
   "metadata": {},
   "outputs": [
    {
     "name": "stdout",
     "output_type": "stream",
     "text": [
      "Model Coefficients: [-5.80225013e-02  9.53345613e-03  4.22584485e-05 ...  0.00000000e+00\n",
      "  2.56244730e-01  0.00000000e+00]\n"
     ]
    }
   ],
   "source": [
    "# Optionally, print model coefficients to understand the influence of each feature\n",
    "print(\"Model Coefficients:\", model.coef_)"
   ]
  },
  {
   "cell_type": "code",
   "execution_count": 20,
   "metadata": {},
   "outputs": [],
   "source": [
    "from sklearn.metrics import r2_score, mean_absolute_error, mean_squared_error\n"
   ]
  },
  {
   "cell_type": "code",
   "execution_count": 21,
   "metadata": {},
   "outputs": [
    {
     "name": "stdout",
     "output_type": "stream",
     "text": [
      "R-squared: -4.0164713179639415\n"
     ]
    }
   ],
   "source": [
    "# R-squared score\n",
    "r2 = r2_score(y_test, y_pred)\n",
    "print(\"R-squared:\", r2)"
   ]
  },
  {
   "cell_type": "code",
   "execution_count": 22,
   "metadata": {},
   "outputs": [
    {
     "name": "stdout",
     "output_type": "stream",
     "text": [
      "Mean Absolute Error: 2.1641727009038054\n"
     ]
    }
   ],
   "source": [
    "# Mean Absolute Error\n",
    "mae = mean_absolute_error(y_test, y_pred)\n",
    "print(\"Mean Absolute Error:\", mae)"
   ]
  },
  {
   "cell_type": "code",
   "execution_count": 23,
   "metadata": {},
   "outputs": [
    {
     "name": "stdout",
     "output_type": "stream",
     "text": [
      "Root Mean Squared Error: 3.047821991035407\n"
     ]
    }
   ],
   "source": [
    "# Root Mean Squared Error\n",
    "rmse = np.sqrt(mean_squared_error(y_test, y_pred))\n",
    "print(\"Root Mean Squared Error:\", rmse)"
   ]
  },
  {
   "cell_type": "code",
   "execution_count": 29,
   "metadata": {},
   "outputs": [
    {
     "name": "stdout",
     "output_type": "stream",
     "text": [
      "Cross-validated MSE: 308142248853611.3\n"
     ]
    }
   ],
   "source": [
    "from sklearn.model_selection import cross_val_score\n",
    "\n",
    "cv_scores = cross_val_score(model, X, y, cv=5, scoring='neg_mean_squared_error')\n",
    "print(\"Cross-validated MSE:\", -cv_scores.mean())\n"
   ]
  },
  {
   "cell_type": "code",
   "execution_count": 31,
   "metadata": {},
   "outputs": [
    {
     "name": "stdout",
     "output_type": "stream",
     "text": [
      "Random Forest MSE: 1.2264853056537102\n"
     ]
    }
   ],
   "source": [
    "from sklearn.ensemble import RandomForestRegressor\n",
    "\n",
    "rf_model = RandomForestRegressor(n_estimators=100, random_state=42)\n",
    "rf_model.fit(X_train, y_train)\n",
    "y_pred_rf = rf_model.predict(X_test)\n",
    "\n",
    "mse_rf = mean_squared_error(y_test, y_pred_rf)\n",
    "print(\"Random Forest MSE:\", mse_rf)\n"
   ]
  },
  {
   "cell_type": "code",
   "execution_count": 33,
   "metadata": {},
   "outputs": [],
   "source": [
    "# Example new data (replace this with actual new data)\n",
    "new_data = pd.DataFrame({\n",
    "    'Genre_Action': [1],  # Example for Genre_Action being 1\n",
    "    'Genre_Adventure': [0],  # Genre_Adventure is 0\n",
    "    'Director_Spike Lee': [1],  # Example for Director_Spike Lee being 1\n",
    "    'Actor 1_Some Actor': [1],  # Actor 1_Some Actor is 1\n",
    "    'Actor 2_Another Actor': [0],  # Actor 2_Another Actor is 0\n",
    "    'Actor 3_Yet Another Actor': [0],  # Actor 3_Yet Another Actor is 0\n",
    "    'Year': [2021],  # Example year\n",
    "    'Duration': [120],  # Example duration\n",
    "    'Votes': [3000]  # Example votes\n",
    "})"
   ]
  },
  {
   "cell_type": "code",
   "execution_count": 34,
   "metadata": {},
   "outputs": [],
   "source": [
    "# Ensure the columns in the new_data match the columns used during training\n",
    "new_data = pd.get_dummies(new_data, drop_first=True)"
   ]
  },
  {
   "cell_type": "code",
   "execution_count": 35,
   "metadata": {},
   "outputs": [],
   "source": [
    "# Make sure that new_data has the same number of columns as X_train\n",
    "new_data = new_data.reindex(columns=X_train.columns, fill_value=0)"
   ]
  },
  {
   "cell_type": "code",
   "execution_count": 36,
   "metadata": {},
   "outputs": [
    {
     "data": {
      "text/plain": [
       "['movie_rating_predictor.pkl']"
      ]
     },
     "execution_count": 36,
     "metadata": {},
     "output_type": "execute_result"
    }
   ],
   "source": [
    "import joblib\n",
    "\n",
    "# Save the trained model\n",
    "joblib.dump(model, 'movie_rating_predictor.pkl')\n"
   ]
  },
  {
   "cell_type": "code",
   "execution_count": 37,
   "metadata": {},
   "outputs": [],
   "source": [
    "# Load the trained model\n",
    "loaded_model = joblib.load('movie_rating_predictor.pkl')\n"
   ]
  },
  {
   "cell_type": "code",
   "execution_count": 38,
   "metadata": {},
   "outputs": [
    {
     "name": "stdout",
     "output_type": "stream",
     "text": [
      "/home/riddhi/archive\n"
     ]
    }
   ],
   "source": [
    "import os\n",
    "print(os.getcwd())\n"
   ]
  },
  {
   "cell_type": "code",
   "execution_count": 39,
   "metadata": {},
   "outputs": [],
   "source": [
    "# Make predictions with the trained model\n",
    "new_prediction = loaded_model.predict(new_data)"
   ]
  },
  {
   "cell_type": "code",
   "execution_count": 40,
   "metadata": {},
   "outputs": [
    {
     "name": "stdout",
     "output_type": "stream",
     "text": [
      "Predicted Rating for New Data: [4.71084291]\n"
     ]
    }
   ],
   "source": [
    "print(\"Predicted Rating for New Data:\", new_prediction)"
   ]
  },
  {
   "cell_type": "code",
   "execution_count": 41,
   "metadata": {},
   "outputs": [
    {
     "name": "stdout",
     "output_type": "stream",
     "text": [
      "R² Score: -4.0164713179639415\n"
     ]
    }
   ],
   "source": [
    "from sklearn.metrics import r2_score\n",
    "r2 = r2_score(y_test, y_pred)\n",
    "print(\"R² Score:\", r2)\n"
   ]
  },
  {
   "cell_type": "code",
   "execution_count": 42,
   "metadata": {},
   "outputs": [
    {
     "name": "stdout",
     "output_type": "stream",
     "text": [
      "Requirement already satisfied: streamlit in /home/riddhi/anaconda3/lib/python3.7/site-packages (1.23.1)\n",
      "Requirement already satisfied: pympler<2,>=0.9 in /home/riddhi/anaconda3/lib/python3.7/site-packages (from streamlit) (1.1)\n",
      "Requirement already satisfied: tzlocal<5,>=1.1 in /home/riddhi/anaconda3/lib/python3.7/site-packages (from streamlit) (4.3.1)\n",
      "Requirement already satisfied: importlib-metadata<7,>=1.4 in /home/riddhi/anaconda3/lib/python3.7/site-packages (from streamlit) (1.5.0)\n",
      "Requirement already satisfied: pandas<3,>=0.25 in /home/riddhi/anaconda3/lib/python3.7/site-packages (from streamlit) (1.0.1)\n",
      "Requirement already satisfied: gitpython!=3.1.19,<4,>=3 in /home/riddhi/anaconda3/lib/python3.7/site-packages (from streamlit) (3.1.44)\n",
      "Requirement already satisfied: packaging<24,>=14.1 in /home/riddhi/anaconda3/lib/python3.7/site-packages (from streamlit) (20.1)\n",
      "Requirement already satisfied: tornado<7,>=6.0.3 in /home/riddhi/anaconda3/lib/python3.7/site-packages (from streamlit) (6.0.3)\n",
      "Requirement already satisfied: click<9,>=7.0 in /home/riddhi/anaconda3/lib/python3.7/site-packages (from streamlit) (7.0)\n",
      "Requirement already satisfied: blinker<2,>=1.0.0 in /home/riddhi/anaconda3/lib/python3.7/site-packages (from streamlit) (1.6.3)\n",
      "Requirement already satisfied: typing-extensions<5,>=4.0.1 in /home/riddhi/anaconda3/lib/python3.7/site-packages (from streamlit) (4.7.1)\n",
      "Requirement already satisfied: altair<6,>=4.0 in /home/riddhi/anaconda3/lib/python3.7/site-packages (from streamlit) (5.0.1)\n",
      "Requirement already satisfied: requests<3,>=2.4 in /home/riddhi/anaconda3/lib/python3.7/site-packages (from streamlit) (2.22.0)\n",
      "Requirement already satisfied: protobuf<5,>=3.20 in /home/riddhi/anaconda3/lib/python3.7/site-packages (from streamlit) (4.24.4)\n",
      "Requirement already satisfied: tenacity<9,>=8.0.0 in /home/riddhi/anaconda3/lib/python3.7/site-packages (from streamlit) (8.2.3)\n",
      "Requirement already satisfied: watchdog; platform_system != \"Darwin\" in /home/riddhi/anaconda3/lib/python3.7/site-packages (from streamlit) (0.10.2)\n",
      "Requirement already satisfied: rich<14,>=10.11.0 in /home/riddhi/anaconda3/lib/python3.7/site-packages (from streamlit) (13.8.1)\n",
      "Requirement already satisfied: cachetools<6,>=4.0 in /home/riddhi/anaconda3/lib/python3.7/site-packages (from streamlit) (5.5.2)\n",
      "Requirement already satisfied: numpy<2,>=1 in /home/riddhi/anaconda3/lib/python3.7/site-packages (from streamlit) (1.18.1)\n",
      "Requirement already satisfied: toml<2 in /home/riddhi/anaconda3/lib/python3.7/site-packages (from streamlit) (0.10.2)\n",
      "Requirement already satisfied: pydeck<1,>=0.1.dev5 in /home/riddhi/anaconda3/lib/python3.7/site-packages (from streamlit) (0.8.1b1)\n",
      "Requirement already satisfied: validators<1,>=0.2 in /home/riddhi/anaconda3/lib/python3.7/site-packages (from streamlit) (0.20.0)\n",
      "Requirement already satisfied: python-dateutil<3,>=2 in /home/riddhi/anaconda3/lib/python3.7/site-packages (from streamlit) (2.8.1)\n",
      "Requirement already satisfied: pyarrow>=4.0 in /home/riddhi/anaconda3/lib/python3.7/site-packages (from streamlit) (12.0.1)\n",
      "Requirement already satisfied: pillow<10,>=6.2.0 in /home/riddhi/anaconda3/lib/python3.7/site-packages (from streamlit) (7.0.0)\n",
      "Requirement already satisfied: pytz-deprecation-shim in /home/riddhi/anaconda3/lib/python3.7/site-packages (from tzlocal<5,>=1.1->streamlit) (0.1.0.post0)\n",
      "Requirement already satisfied: backports.zoneinfo; python_version < \"3.9\" in /home/riddhi/anaconda3/lib/python3.7/site-packages (from tzlocal<5,>=1.1->streamlit) (0.2.1)\n",
      "Requirement already satisfied: zipp>=0.5 in /home/riddhi/anaconda3/lib/python3.7/site-packages (from importlib-metadata<7,>=1.4->streamlit) (2.2.0)\n",
      "Requirement already satisfied: pytz>=2017.2 in /home/riddhi/anaconda3/lib/python3.7/site-packages (from pandas<3,>=0.25->streamlit) (2019.3)\n",
      "Requirement already satisfied: gitdb<5,>=4.0.1 in /home/riddhi/anaconda3/lib/python3.7/site-packages (from gitpython!=3.1.19,<4,>=3->streamlit) (4.0.12)\n",
      "Requirement already satisfied: pyparsing>=2.0.2 in /home/riddhi/anaconda3/lib/python3.7/site-packages (from packaging<24,>=14.1->streamlit) (2.4.6)\n",
      "Requirement already satisfied: six in /home/riddhi/anaconda3/lib/python3.7/site-packages (from packaging<24,>=14.1->streamlit) (1.14.0)\n",
      "Requirement already satisfied: toolz in /home/riddhi/anaconda3/lib/python3.7/site-packages (from altair<6,>=4.0->streamlit) (0.10.0)\n",
      "Requirement already satisfied: jsonschema>=3.0 in /home/riddhi/anaconda3/lib/python3.7/site-packages (from altair<6,>=4.0->streamlit) (3.2.0)\n",
      "Requirement already satisfied: jinja2 in /home/riddhi/anaconda3/lib/python3.7/site-packages (from altair<6,>=4.0->streamlit) (2.11.1)\n",
      "Requirement already satisfied: urllib3!=1.25.0,!=1.25.1,<1.26,>=1.21.1 in /home/riddhi/anaconda3/lib/python3.7/site-packages (from requests<3,>=2.4->streamlit) (1.25.8)\n",
      "Requirement already satisfied: chardet<3.1.0,>=3.0.2 in /home/riddhi/anaconda3/lib/python3.7/site-packages (from requests<3,>=2.4->streamlit) (3.0.4)\n",
      "Requirement already satisfied: idna<2.9,>=2.5 in /home/riddhi/anaconda3/lib/python3.7/site-packages (from requests<3,>=2.4->streamlit) (2.8)\n",
      "Requirement already satisfied: certifi>=2017.4.17 in /home/riddhi/anaconda3/lib/python3.7/site-packages (from requests<3,>=2.4->streamlit) (2019.11.28)\n",
      "Requirement already satisfied: pathtools>=0.1.1 in /home/riddhi/anaconda3/lib/python3.7/site-packages (from watchdog; platform_system != \"Darwin\"->streamlit) (0.1.2)\n",
      "Requirement already satisfied: pygments<3.0.0,>=2.13.0 in /home/riddhi/anaconda3/lib/python3.7/site-packages (from rich<14,>=10.11.0->streamlit) (2.17.2)\n",
      "Requirement already satisfied: markdown-it-py>=2.2.0 in /home/riddhi/anaconda3/lib/python3.7/site-packages (from rich<14,>=10.11.0->streamlit) (2.2.0)\n",
      "Requirement already satisfied: decorator>=3.4.0 in /home/riddhi/anaconda3/lib/python3.7/site-packages (from validators<1,>=0.2->streamlit) (4.4.1)\n",
      "Requirement already satisfied: tzdata; python_version >= \"3.6\" in /home/riddhi/anaconda3/lib/python3.7/site-packages (from pytz-deprecation-shim->tzlocal<5,>=1.1->streamlit) (2025.2)\n",
      "Requirement already satisfied: smmap<6,>=3.0.1 in /home/riddhi/anaconda3/lib/python3.7/site-packages (from gitdb<5,>=4.0.1->gitpython!=3.1.19,<4,>=3->streamlit) (5.0.2)\n",
      "Requirement already satisfied: setuptools in /home/riddhi/anaconda3/lib/python3.7/site-packages (from jsonschema>=3.0->altair<6,>=4.0->streamlit) (45.2.0.post20200210)\n",
      "Requirement already satisfied: attrs>=17.4.0 in /home/riddhi/anaconda3/lib/python3.7/site-packages (from jsonschema>=3.0->altair<6,>=4.0->streamlit) (19.3.0)\n",
      "Requirement already satisfied: pyrsistent>=0.14.0 in /home/riddhi/anaconda3/lib/python3.7/site-packages (from jsonschema>=3.0->altair<6,>=4.0->streamlit) (0.15.7)\n",
      "Requirement already satisfied: MarkupSafe>=0.23 in /home/riddhi/anaconda3/lib/python3.7/site-packages (from jinja2->altair<6,>=4.0->streamlit) (1.1.1)\n",
      "Requirement already satisfied: mdurl~=0.1 in /home/riddhi/anaconda3/lib/python3.7/site-packages (from markdown-it-py>=2.2.0->rich<14,>=10.11.0->streamlit) (0.1.2)\n"
     ]
    }
   ],
   "source": [
    "!pip install streamlit"
   ]
  },
  {
   "cell_type": "code",
   "execution_count": 45,
   "metadata": {},
   "outputs": [
    {
     "name": "stdout",
     "output_type": "stream",
     "text": [
      "/home/riddhi/archive\n"
     ]
    }
   ],
   "source": [
    "import os\n",
    "print(os.getcwd())\n"
   ]
  },
  {
   "cell_type": "code",
   "execution_count": 46,
   "metadata": {},
   "outputs": [
    {
     "data": {
      "text/plain": [
       "['linear_regression_model.pkl']"
      ]
     },
     "execution_count": 46,
     "metadata": {},
     "output_type": "execute_result"
    }
   ],
   "source": [
    "import joblib\n",
    "\n",
    "joblib.dump(model, 'linear_regression_model.pkl')\n"
   ]
  },
  {
   "cell_type": "code",
   "execution_count": 47,
   "metadata": {},
   "outputs": [
    {
     "name": "stdout",
     "output_type": "stream",
     "text": [
      "['movie_rating_model.pkl', 'Task-2.ipynb', 'movie_rating_predictor.pkl', 'linear_regression_model.pkl', '.ipynb_checkpoints', 'movies.csv', 'movie_rating_app.py .ipynb']\n"
     ]
    }
   ],
   "source": [
    "print(os.listdir())\n"
   ]
  },
  {
   "cell_type": "code",
   "execution_count": 48,
   "metadata": {},
   "outputs": [],
   "source": [
    "loaded_model = joblib.load('linear_regression_model.pkl')\n"
   ]
  },
  {
   "cell_type": "code",
   "execution_count": 49,
   "metadata": {},
   "outputs": [],
   "source": [
    "model_path = os.path.join(os.getcwd(), 'linear_regression_model.pkl')\n",
    "joblib.dump(model, model_path)\n",
    "loaded_model = joblib.load(model_path)\n"
   ]
  },
  {
   "cell_type": "code",
   "execution_count": null,
   "metadata": {},
   "outputs": [],
   "source": []
  }
 ],
 "metadata": {
  "kernelspec": {
   "display_name": "Python 3",
   "language": "python",
   "name": "python3"
  },
  "language_info": {
   "codemirror_mode": {
    "name": "ipython",
    "version": 3
   },
   "file_extension": ".py",
   "mimetype": "text/x-python",
   "name": "python",
   "nbconvert_exporter": "python",
   "pygments_lexer": "ipython3",
   "version": "3.7.6"
  }
 },
 "nbformat": 4,
 "nbformat_minor": 4
}
